{
 "cells": [
  {
   "cell_type": "markdown",
   "metadata": {},
   "source": [
    "# Machine Learning Engineer Nanodegree\n",
    "## Supervised Learning\n",
    "## Project 2: Building a Student Intervention System"
   ]
  },
  {
   "cell_type": "markdown",
   "metadata": {},
   "source": [
    "Welcome to the second project of the Machine Learning Engineer Nanodegree! In this notebook, some template code has already been provided for you, and it will be your job to implement the additional functionality necessary to successfully complete this project. Sections that begin with **'Implementation'** in the header indicate that the following block of code will require additional functionality which you must provide. Instructions will be provided for each section and the specifics of the implementation are marked in the code block with a `'TODO'` statement. Please be sure to read the instructions carefully!\n",
    "\n",
    "In addition to implementing code, there will be questions that you must answer which relate to the project and your implementation. Each section where you will answer a question is preceded by a **'Question X'** header. Carefully read each question and provide thorough answers in the following text boxes that begin with **'Answer:'**. Your project submission will be evaluated based on your answers to each of the questions and the implementation you provide.  \n",
    "\n",
    ">**Note:** Code and Markdown cells can be executed using the **Shift + Enter** keyboard shortcut. In addition, Markdown cells can be edited by typically double-clicking the cell to enter edit mode."
   ]
  },
  {
   "cell_type": "markdown",
   "metadata": {},
   "source": [
    "### Question 1 - Classification vs. Regression\n",
    "*Your goal for this project is to identify students who might need early intervention before they fail to graduate. Which type of supervised learning problem is this, classification or regression? Why?*"
   ]
  },
  {
   "cell_type": "markdown",
   "metadata": {},
   "source": [
    "**Answer: ** Based from the goal we can tell the problem we are trying to solve, it leans to classification - supervised learning. The reason we can pick classification because the output consists of category. I recall in classification there is attributes and properties. Regression problem most of the time are continous output in the problem. Classification can be do the students require early intervention ? T/F. This can be first properties, second do the students not require early intervention ? T/F.\n",
    "\n",
    "We need to give a students a label: needs early intervention or doesn't need early intervention. Those problems in which there are a finite number of possible outputs and they cannot be ordered are classification problems. Regression problems involve continuous outputs, or, at least, ordinal outputs. By start asking this question, we conclude that the output is categorical and continuous input."
   ]
  },
  {
   "cell_type": "markdown",
   "metadata": {},
   "source": [
    "## Exploring the Data\n",
    "Run the code cell below to load necessary Python libraries and load the student data. Note that the last column from this dataset, `'passed'`, will be our target label (whether the student graduated or didn't graduate). All other columns are features about each student."
   ]
  },
  {
   "cell_type": "code",
   "execution_count": 1,
   "metadata": {
    "collapsed": false
   },
   "outputs": [
    {
     "name": "stdout",
     "output_type": "stream",
     "text": [
      "Student data read successfully!\n"
     ]
    }
   ],
   "source": [
    "# Import libraries\n",
    "import numpy as np\n",
    "import pandas as pd\n",
    "from time import time\n",
    "from sklearn.metrics import f1_score\n",
    "\n",
    "# Read student data\n",
    "student_data = pd.read_csv(\"student-data.csv\")\n",
    "print (\"Student data read successfully!\")"
   ]
  },
  {
   "cell_type": "markdown",
   "metadata": {},
   "source": [
    "### Implementation: Data Exploration\n",
    "Let's begin by investigating the dataset to determine how many students we have information on, and learn about the graduation rate among these students. In the code cell below, you will need to compute the following:\n",
    "- The total number of students, `n_students`.\n",
    "- The total number of features for each student, `n_features`.\n",
    "- The number of those students who passed, `n_passed`.\n",
    "- The number of those students who failed, `n_failed`.\n",
    "- The graduation rate of the class, `grad_rate`, in percent (%).\n"
   ]
  },
  {
   "cell_type": "code",
   "execution_count": 4,
   "metadata": {
    "collapsed": false
   },
   "outputs": [
    {
     "name": "stdout",
     "output_type": "stream",
     "text": [
      "Total number of students: 395\n",
      "Number of features: 30\n",
      "Number of students who passed: 265\n",
      "Number of students who failed: 130\n",
      "Graduation rate of the class: 67.09%\n"
     ]
    }
   ],
   "source": [
    "# TODO: Calculate number of students\n",
    "n_students = student_data.shape[0]\n",
    "\n",
    "# TODO: Calculate number of features\n",
    "# should not include our target column, thus do substract by one\n",
    "n_features = student_data.shape[1]-1\n",
    "\n",
    "# TODO: Calculate passing students\n",
    "n_passed = np.sum(student_data['passed'] == 'yes')\n",
    "\n",
    "# TODO: Calculate failing students\n",
    "n_failed = np.sum(student_data['passed'] == 'no')\n",
    "\n",
    "# TODO: Calculate graduation rate\n",
    "grad_rate = 100 * float (n_passed) / float(n_students)\n",
    "\n",
    "# Print the results\n",
    "print (\"Total number of students: {}\".format(n_students))\n",
    "print (\"Number of features: {}\".format(n_features))\n",
    "print (\"Number of students who passed: {}\".format(n_passed))\n",
    "print (\"Number of students who failed: {}\".format(n_failed))\n",
    "print (\"Graduation rate of the class: {:.2f}%\".format(grad_rate))"
   ]
  },
  {
   "cell_type": "markdown",
   "metadata": {},
   "source": [
    "## Preparing the Data\n",
    "In this section, we will prepare the data for modeling, training and testing.\n",
    "\n",
    "### Identify feature and target columns\n",
    "It is often the case that the data you obtain contains non-numeric features. This can be a problem, as most machine learning algorithms expect numeric data to perform computations with.\n",
    "\n",
    "Run the code cell below to separate the student data into feature and target columns to see if any features are non-numeric."
   ]
  },
  {
   "cell_type": "code",
   "execution_count": 5,
   "metadata": {
    "collapsed": false
   },
   "outputs": [
    {
     "name": "stdout",
     "output_type": "stream",
     "text": [
      "Feature columns:\n",
      "['school', 'sex', 'age', 'address', 'famsize', 'Pstatus', 'Medu', 'Fedu', 'Mjob', 'Fjob', 'reason', 'guardian', 'traveltime', 'studytime', 'failures', 'schoolsup', 'famsup', 'paid', 'activities', 'nursery', 'higher', 'internet', 'romantic', 'famrel', 'freetime', 'goout', 'Dalc', 'Walc', 'health', 'absences']\n",
      "\n",
      "Target column: passed\n",
      "\n",
      "Feature values:\n",
      "  school sex  age address famsize Pstatus  Medu  Fedu     Mjob      Fjob  \\\n",
      "0     GP   F   18       U     GT3       A     4     4  at_home   teacher   \n",
      "1     GP   F   17       U     GT3       T     1     1  at_home     other   \n",
      "2     GP   F   15       U     LE3       T     1     1  at_home     other   \n",
      "3     GP   F   15       U     GT3       T     4     2   health  services   \n",
      "4     GP   F   16       U     GT3       T     3     3    other     other   \n",
      "\n",
      "    ...    higher internet  romantic  famrel  freetime goout Dalc Walc health  \\\n",
      "0   ...       yes       no        no       4         3     4    1    1      3   \n",
      "1   ...       yes      yes        no       5         3     3    1    1      3   \n",
      "2   ...       yes      yes        no       4         3     2    2    3      3   \n",
      "3   ...       yes      yes       yes       3         2     2    1    1      5   \n",
      "4   ...       yes       no        no       4         3     2    1    2      5   \n",
      "\n",
      "  absences  \n",
      "0        6  \n",
      "1        4  \n",
      "2       10  \n",
      "3        2  \n",
      "4        4  \n",
      "\n",
      "[5 rows x 30 columns]\n"
     ]
    }
   ],
   "source": [
    "# Extract feature columns\n",
    "feature_cols = list(student_data.columns[:-1])\n",
    "\n",
    "# Extract target column 'passed'\n",
    "target_col = student_data.columns[-1] \n",
    "\n",
    "# Show the list of columns\n",
    "print (\"Feature columns:\\n{}\".format(feature_cols))\n",
    "print (\"\\nTarget column: {}\".format(target_col))\n",
    "\n",
    "# Separate the data into feature data and target data (X_all and y_all, respectively)\n",
    "X_all = student_data[feature_cols]\n",
    "y_all = student_data[target_col]\n",
    "\n",
    "# Show the feature information by printing the first five rows\n",
    "print (\"\\nFeature values:\")\n",
    "print (X_all.head())"
   ]
  },
  {
   "cell_type": "markdown",
   "metadata": {},
   "source": [
    "### Preprocess Feature Columns\n",
    "\n",
    "As you can see, there are several non-numeric columns that need to be converted! Many of them are simply `yes`/`no`, e.g. `internet`. These can be reasonably converted into `1`/`0` (binary) values.\n",
    "\n",
    "Other columns, like `Mjob` and `Fjob`, have more than two values, and are known as _categorical variables_. The recommended way to handle such a column is to create as many columns as possible values (e.g. `Fjob_teacher`, `Fjob_other`, `Fjob_services`, etc.), and assign a `1` to one of them and `0` to all others.\n",
    "\n",
    "These generated columns are sometimes called _dummy variables_, and we will use the [`pandas.get_dummies()`](http://pandas.pydata.org/pandas-docs/stable/generated/pandas.get_dummies.html?highlight=get_dummies#pandas.get_dummies) function to perform this transformation. Run the code cell below to perform the preprocessing routine discussed in this section."
   ]
  },
  {
   "cell_type": "code",
   "execution_count": 15,
   "metadata": {
    "collapsed": false
   },
   "outputs": [
    {
     "name": "stdout",
     "output_type": "stream",
     "text": [
      "Processed feature columns (48 total features):\n",
      "['school_GP', 'school_MS', 'sex_F', 'sex_M', 'age', 'address_R', 'address_U', 'famsize_GT3', 'famsize_LE3', 'Pstatus_A', 'Pstatus_T', 'Medu', 'Fedu', 'Mjob_at_home', 'Mjob_health', 'Mjob_other', 'Mjob_services', 'Mjob_teacher', 'Fjob_at_home', 'Fjob_health', 'Fjob_other', 'Fjob_services', 'Fjob_teacher', 'reason_course', 'reason_home', 'reason_other', 'reason_reputation', 'guardian_father', 'guardian_mother', 'guardian_other', 'traveltime', 'studytime', 'failures', 'schoolsup', 'famsup', 'paid', 'activities', 'nursery', 'higher', 'internet', 'romantic', 'famrel', 'freetime', 'goout', 'Dalc', 'Walc', 'health', 'absences']\n"
     ]
    }
   ],
   "source": [
    "def preprocess_features(X):\n",
    "    ''' Preprocesses the student data and converts non-numeric binary variables into\n",
    "        binary (0/1) variables. Converts categorical variables into dummy variables. '''\n",
    "    \n",
    "    # Initialize new output DataFrame\n",
    "    output = pd.DataFrame(index = X.index)\n",
    "\n",
    "    # Investigate each feature column for the data\n",
    "    for col, col_data in X.iteritems():\n",
    "        \n",
    "        # If data type is non-numeric, replace all yes/no values with 1/0\n",
    "        if col_data.dtype == object:\n",
    "            col_data = col_data.replace(['yes', 'no'], [1, 0])\n",
    "\n",
    "        # If data type is categorical, convert to dummy variables\n",
    "        if col_data.dtype == object:\n",
    "            # Example: 'school' => 'school_GP' and 'school_MS'\n",
    "            col_data = pd.get_dummies(col_data, prefix = col)  \n",
    "        \n",
    "        # Collect the revised columns\n",
    "        output = output.join(col_data)\n",
    "    \n",
    "    return output\n",
    "\n",
    "X_all = preprocess_features(X_all)\n",
    "print (\"Processed feature columns ({} total features):\\n{}\".format(len(X_all.columns), list(X_all.columns)))"
   ]
  },
  {
   "cell_type": "code",
   "execution_count": 16,
   "metadata": {
    "collapsed": false
   },
   "outputs": [
    {
     "name": "stdout",
     "output_type": "stream",
     "text": [
      "\n",
      "F1 score for all yes on student: 0.8030\n"
     ]
    }
   ],
   "source": [
    "# Imbalanced proportion issue, then we should benchmark our models training by use the score from predicting all yes values\n",
    "from sklearn.metrics import f1_score\n",
    "print (\"\\nF1 score for all yes on student: {:.4f}\".format(\n",
    "    f1_score(y_true = ['yes']*n_passed + ['no']*n_failed, y_pred =['yes']*n_students,pos_label=\n",
    "            'yes',average='binary')))"
   ]
  },
  {
   "cell_type": "markdown",
   "metadata": {},
   "source": [
    "### Implementation: Training and Testing Data Split\n",
    "So far, we have converted all _categorical_ features into numeric values. For the next step, we split the data (both features and corresponding labels) into training and test sets. In the following code cell below, you will need to implement the following:\n",
    "- Randomly shuffle and split the data (`X_all`, `y_all`) into training and testing subsets.\n",
    "  - Use 300 training points (approximately 75%) and 95 testing points (approximately 25%).\n",
    "  - Set a `random_state` for the function(s) you use, if provided.\n",
    "  - Store the results in `X_train`, `X_test`, `y_train`, and `y_test`."
   ]
  },
  {
   "cell_type": "code",
   "execution_count": 17,
   "metadata": {
    "collapsed": false
   },
   "outputs": [
    {
     "name": "stdout",
     "output_type": "stream",
     "text": [
      "Training set has 300 samples.\n",
      "Testing set has 95 samples.\n"
     ]
    }
   ],
   "source": [
    "# TODO: Import any additional functionality you may need here\n",
    "from sklearn.cross_validation import train_test_split\n",
    "\n",
    "# TODO: Use 300 training points approx 75%\n",
    "num_train = 300\n",
    "\n",
    "# Set the number of testing points\n",
    "num_test = X_all.shape[0] - num_train\n",
    "\n",
    "# TODO: Shuffle and split the dataset into the number of training and testing points above\n",
    "# Random state is 6 for shuffling \n",
    "X_train, X_test, y_train, y_test = train_test_split(X_all, y_all, test_size=num_test, random_state=6)\n",
    "\n",
    "# Show the results of the split\n",
    "print (\"Training set has {} samples.\".format(X_train.shape[0]))\n",
    "print (\"Testing set has {} samples.\".format(X_test.shape[0]))"
   ]
  },
  {
   "cell_type": "code",
   "execution_count": 18,
   "metadata": {
    "collapsed": false
   },
   "outputs": [
    {
     "name": "stdout",
     "output_type": "stream",
     "text": [
      "Grad rate of the training set: 67.00%\n",
      "Grad rate of the testing set: 67.37%\n"
     ]
    }
   ],
   "source": [
    "from sklearn.cross_validation import train_test_split\n",
    "X_train, X_test, y_train, y_test = train_test_split(X_all, y_all, stratify=y_all, test_size=0.24, random_state=42)\n",
    "\n",
    "print (\"Grad rate of the training set: {:.2f}%\".format(100 * (y_train == 'yes').mean()))\n",
    "print (\"Grad rate of the testing set: {:.2f}%\".format(100 * (y_test == 'yes').mean()))"
   ]
  },
  {
   "cell_type": "markdown",
   "metadata": {},
   "source": [
    "## Training and Evaluating Models\n",
    "In this section, you will choose 3 supervised learning models that are appropriate for this problem and available in `scikit-learn`. You will first discuss the reasoning behind choosing these three models by considering what you know about the data and each model's strengths and weaknesses. You will then fit the model to varying sizes of training data (100 data points, 200 data points, and 300 data points) and measure the F<sub>1</sub> score. You will need to produce three tables (one for each model) that shows the training set size, training time, prediction time, F<sub>1</sub> score on the training set, and F<sub>1</sub> score on the testing set."
   ]
  },
  {
   "cell_type": "markdown",
   "metadata": {},
   "source": [
    "### Question 2 - Model Application\n",
    "*List three supervised learning models that are appropriate for this problem. What are the general applications of each model? What are their strengths and weaknesses? Given what you know about the data, why did you choose these models to be applied?*"
   ]
  },
  {
   "cell_type": "markdown",
   "metadata": {},
   "source": [
    "**Answer: ** Three supervised learning models\n",
    "\n",
    "1 Decision Tree \n",
    "\n",
    "General Application: Classification, can be Apple vs Orange recognition problem\n",
    "\n",
    "Strength: easy interpretation, intuitive attributes and properties, binary 1||0 thus doesn't need normalization, \n",
    "\n",
    "Weakness: subject to overfit\n",
    "\n",
    "Reason: The output is easier to understand and more comprehensive finding the cause of student failure.\n",
    "\n",
    "\n",
    "2 Support Vector Machine\n",
    "\n",
    "General Application : Classification, facial expression classification. It's complex and has time constraint. Morelikely anything dealing with texture can be classified as support vector machine problem.\n",
    "\n",
    "Strength: Could avoid overfit because it is more complex optimization problem\n",
    "\n",
    "Weakness: Cubic computation time can be really sensitive in large number of data sets.\n",
    "\n",
    "Reason: It will work well since the training and test set consider small data set size and it won't give so much noise. \n",
    "\n",
    "\n",
    "3 Naive Bayes\n",
    "\n",
    "General Application: again Classification but also it can use as recognizing algorithm. One good example in classification is Spam email or not Spam.\n",
    "\n",
    "Strength: Simple, quicker, need less training data\n",
    "\n",
    "Weakness: It can't learn cross interaction between features. Need big data set in order to get decent estimation. Precision and recall will be really low. This can be a discussion in generative (GNB) vs discriminative model (Logistic Regression)\n",
    "\n",
    "Reason: By taking a look at the strength, should give a shot to try.Conditional independece assumption might be good reason in this case. It is also part of the consideration since the training set and test set consider small and high bias classifier."
   ]
  },
  {
   "cell_type": "markdown",
   "metadata": {},
   "source": [
    "### Setup\n",
    "Run the code cell below to initialize three helper functions which you can use for training and testing the three supervised learning models you've chosen above. The functions are as follows:\n",
    "- `train_classifier` - takes as input a classifier and training data and fits the classifier to the data.\n",
    "- `predict_labels` - takes as input a fit classifier, features, and a target labeling and makes predictions using the F<sub>1</sub> score.\n",
    "- `train_predict` - takes as input a classifier, and the training and testing data, and performs `train_clasifier` and `predict_labels`.\n",
    " - This function will report the F<sub>1</sub> score for both the training and testing data separately."
   ]
  },
  {
   "cell_type": "code",
   "execution_count": 46,
   "metadata": {
    "collapsed": false
   },
   "outputs": [],
   "source": [
    "def train_classifier(clf, X_train, y_train):\n",
    "    ''' Fits a classifier to the training data. '''\n",
    "    \n",
    "    # Start the clock, train the classifier, then stop the clock\n",
    "    start = time()\n",
    "    clf.fit(X_train, y_train)\n",
    "    end = time()\n",
    "    \n",
    "    # Print the results\n",
    "    print (\"------------------------------------------------------\")\n",
    "    print (\"Trained model in {:.4f} seconds\".format(end - start))\n",
    "\n",
    "    \n",
    "def predict_labels(clf, features, target):\n",
    "    ''' Makes predictions using a fit classifier based on F1 score. '''\n",
    "    \n",
    "    # Start the clock, make predictions, then stop the clock\n",
    "    start = time()\n",
    "    y_pred = clf.predict(features)\n",
    "    end = time()\n",
    "    \n",
    "    # Print and return results\n",
    "    print (\"Made predictions in {:.4f} seconds.\".format(end - start))\n",
    "    return f1_score(target.values, y_pred, pos_label='yes')\n",
    "\n",
    "#def train_training_sizes(clf,sizes):\n",
    "    \n",
    "#    for training_size in training_sizes:\n",
    "#        rnd = np.random.choice(num_train, training_size, replace=False)\n",
    "#        rnd_X_train = X_train.iloc[rnd, :]\n",
    "#        rnd_y_train = y_train.iloc[rnd]\n",
    "#        predict = train_predict(clf, rnd_X_train, rnd_y_train, X_test, y_test)\n",
    "        \n",
    "#    return predict\n",
    "\n",
    "\n",
    "def train_predict(clf, X_train, y_train, X_test, y_test):\n",
    "    ''' Train and predict using a classifer based on F1 score. '''\n",
    "    \n",
    "    # Indicate the classifier and the training set size\n",
    "    print (\"Training a {} using a training set size of {}. . .\".format(clf.__class__.__name__, len(X_train)))\n",
    "    \n",
    "    # Train the classifier\n",
    "    train_classifier(clf, X_train, y_train)\n",
    "    \n",
    "    # Print the results of prediction for both training and testing\n",
    "    print (\"F1 score for training set: {:.4f}.\".format(predict_labels(clf, X_train, y_train)))\n",
    "    print (\"F1 score for test set: {:.4f}.\".format(predict_labels(clf, X_test, y_test)))\n",
    "    print (\"------------------------------------------------------\")"
   ]
  },
  {
   "cell_type": "markdown",
   "metadata": {},
   "source": [
    "### Implementation: Model Performance Metrics\n",
    "With the predefined functions above, you will now import the three supervised learning models of your choice and run the `train_predict` function for each one. Remember that you will need to train and predict on each classifier for three different training set sizes: 100, 200, and 300. Hence, you should expect to have 9 different outputs below — 3 for each model using the varying training set sizes. In the following code cell, you will need to implement the following:\n",
    "- Import the three supervised learning models you've discussed in the previous section.\n",
    "- Initialize the three models and store them in `clf_A`, `clf_B`, and `clf_C`.\n",
    " - Use a `random_state` for each model you use, if provided.\n",
    " - **Note:** Use the default settings for each model — you will tune one specific model in a later section.\n",
    "- Create the different training set sizes to be used to train each model.\n",
    " - *Do not reshuffle and resplit the data! The new training points should be drawn from `X_train` and `y_train`.*\n",
    "- Fit each model with each training set size and make predictions on the test set (9 in total).  \n",
    "**Note:** Three tables are provided after the following code cell which can be used to store your results."
   ]
  },
  {
   "cell_type": "code",
   "execution_count": 47,
   "metadata": {
    "collapsed": false
   },
   "outputs": [
    {
     "name": "stdout",
     "output_type": "stream",
     "text": [
      "\n",
      "DecisionTreeClassifier: \n",
      "\n",
      "Training a DecisionTreeClassifier using a training set size of 100. . .\n",
      "------------------------------------------------------\n",
      "Trained model in 0.0040 seconds\n",
      "Made predictions in 0.0000 seconds.\n",
      "F1 score for training set: 1.0000.\n",
      "Made predictions in 0.0010 seconds.\n",
      "F1 score for test set: 0.6829.\n",
      "------------------------------------------------------\n",
      "Training a DecisionTreeClassifier using a training set size of 200. . .\n",
      "------------------------------------------------------\n",
      "Trained model in 0.0060 seconds\n",
      "Made predictions in 0.0010 seconds.\n",
      "F1 score for training set: 1.0000.\n",
      "Made predictions in 0.0000 seconds.\n",
      "F1 score for test set: 0.7000.\n",
      "------------------------------------------------------\n",
      "Training a DecisionTreeClassifier using a training set size of 300. . .\n",
      "------------------------------------------------------\n",
      "Trained model in 0.0070 seconds\n",
      "Made predictions in 0.0010 seconds.\n",
      "F1 score for training set: 1.0000.\n",
      "Made predictions in 0.0010 seconds.\n",
      "F1 score for test set: 0.6723.\n",
      "------------------------------------------------------\n",
      "\n",
      "SVC: \n",
      "\n",
      "Training a SVC using a training set size of 100. . .\n",
      "------------------------------------------------------\n",
      "Trained model in 0.0040 seconds\n",
      "Made predictions in 0.0030 seconds.\n",
      "F1 score for training set: 0.8354.\n",
      "Made predictions in 0.0020 seconds.\n",
      "F1 score for test set: 0.8025.\n",
      "------------------------------------------------------\n",
      "Training a SVC using a training set size of 200. . .\n",
      "------------------------------------------------------\n",
      "Trained model in 0.0130 seconds\n",
      "Made predictions in 0.0090 seconds.\n",
      "F1 score for training set: 0.8431.\n",
      "Made predictions in 0.0050 seconds.\n",
      "F1 score for test set: 0.8105.\n",
      "------------------------------------------------------\n",
      "Training a SVC using a training set size of 300. . .\n",
      "------------------------------------------------------\n",
      "Trained model in 0.0240 seconds\n",
      "Made predictions in 0.0170 seconds.\n",
      "F1 score for training set: 0.8664.\n",
      "Made predictions in 0.0060 seconds.\n",
      "F1 score for test set: 0.8052.\n",
      "------------------------------------------------------\n",
      "\n",
      "GaussianNB: \n",
      "\n",
      "Training a GaussianNB using a training set size of 100. . .\n",
      "------------------------------------------------------\n",
      "Trained model in 0.0030 seconds\n",
      "Made predictions in 0.0010 seconds.\n",
      "F1 score for training set: 0.7752.\n",
      "Made predictions in 0.0010 seconds.\n",
      "F1 score for test set: 0.6457.\n",
      "------------------------------------------------------\n",
      "Training a GaussianNB using a training set size of 200. . .\n",
      "------------------------------------------------------\n",
      "Trained model in 0.0030 seconds\n",
      "Made predictions in 0.0020 seconds.\n",
      "F1 score for training set: 0.8060.\n",
      "Made predictions in 0.0010 seconds.\n",
      "F1 score for test set: 0.7218.\n",
      "------------------------------------------------------\n",
      "Training a GaussianNB using a training set size of 300. . .\n",
      "------------------------------------------------------\n",
      "Trained model in 0.0030 seconds\n",
      "Made predictions in 0.0010 seconds.\n",
      "F1 score for training set: 0.8134.\n",
      "Made predictions in 0.0010 seconds.\n",
      "F1 score for test set: 0.7761.\n",
      "------------------------------------------------------\n"
     ]
    }
   ],
   "source": [
    "# TODO: Import the three supervised learning models from sklearn\n",
    "from sklearn.tree import DecisionTreeClassifier\n",
    "from sklearn.svm import SVC\n",
    "from sklearn.naive_bayes import GaussianNB\n",
    "from sklearn.linear_model import LogisticRegression\n",
    "\n",
    "# TODO: Initialize the three models\n",
    "# Overall the best model per F1 score test observation is SVC - clf_B\n",
    "clf_A = DecisionTreeClassifier() #The best F1 score 200 test set, F1=0.7481\n",
    "clf_B = SVC() #The best F1 Score 300 test set, F1 = 0.8456\n",
    "clf_C = GaussianNB() # The best F1 Score 200 test set, F1=0.7826\n",
    "# Try logistic regression as comparison with GNB\n",
    "clf_D = LogisticRegression() #The best F1 score 300 test set , F1=0.8175\n",
    "\n",
    "# loop thru models, then thru train sizes\n",
    "for clf in [clf_A, clf_B, clf_C]:\n",
    "    print (\"\\n{}: \\n\".format(clf.__class__.__name__))\n",
    "    for n in [100, 200, 300]:\n",
    "        train_predict(clf, X_train[:n], y_train[:n], X_test, y_test)\n",
    "\n",
    "#training_sizes =[100,200,300]\n",
    "\n",
    "# TODO: Execute the 'train_predict' function for each classifier and each training set size\n",
    "#train_training_sizes(clf_A,training_sizes)"
   ]
  },
  {
   "cell_type": "code",
   "execution_count": 48,
   "metadata": {
    "collapsed": false
   },
   "outputs": [],
   "source": [
    "#train_training_sizes(clf_B,training_sizes)"
   ]
  },
  {
   "cell_type": "code",
   "execution_count": 49,
   "metadata": {
    "collapsed": false
   },
   "outputs": [],
   "source": [
    "#train_training_sizes(clf_C,training_sizes)"
   ]
  },
  {
   "cell_type": "code",
   "execution_count": 50,
   "metadata": {
    "collapsed": false
   },
   "outputs": [],
   "source": [
    "#train_training_sizes(clf_D,training_sizes)"
   ]
  },
  {
   "cell_type": "markdown",
   "metadata": {},
   "source": [
    "### Tabular Results\n",
    "Edit the cell below to see how a table can be designed in [Markdown](https://github.com/adam-p/markdown-here/wiki/Markdown-Cheatsheet#tables). You can record your results from above in the tables provided."
   ]
  },
  {
   "cell_type": "markdown",
   "metadata": {},
   "source": [
    "** Classifer 1 - Decision Tree** The timing slightly different because I had an issue with my Mac machine so I ran in Win 7  \n",
    "\n",
    "| Training Set Size | Training Time | Prediction Time (test) | F1 Score (train) | F1 Score (test) |\n",
    "| :---------------: | :---------------------: | :--------------------: | :--------------: | :-------------: |\n",
    "| 100               |         0.0015          |     0.0003             |   1.0000         |    0.7302       |\n",
    "| 200               |         0.0023          |     0.0003             |   1.0000         |    0.7717       |\n",
    "| 300               |         0.0027          |     0.0003             |   1.0000         |    0.7258       |\n",
    "\n",
    "** Classifer 2 - Support Vector Machine**  \n",
    "\n",
    "| Training Set Size | Training Time | Prediction Time (test) | F1 Score (train) | F1 Score (test) |\n",
    "| :---------------: | :---------------------: | :--------------------: | :--------------: | :-------------: |\n",
    "| 100               |         0.0026          |     0.0010             |   0.8354         |    0.8025       |\n",
    "| 200               |         0.0045          |     0.0036             |   0.8431         |    0.8105       |\n",
    "| 300               |         0.0098          |     0.0068             |   0.8664         |    0.8052       |\n",
    "\n",
    "** Classifer 3 - GaussianNB**  \n",
    "\n",
    "| Training Set Size | Training Time | Prediction Time (test) | F1 Score (train) | F1 Score (test) |\n",
    "| :---------------: | :---------------------: | :--------------------: | :--------------: | :-------------: |\n",
    "| 100               |         0.0024          |     0.0007             |   0.7863         |    0.6723       |\n",
    "| 200               |         0.0013          |     0.0005             |   0.7717         |    0.6992       |\n",
    "| 300               |         0.0015          |     0.0009             |   0.7711         |    0.7402       |\n",
    "\n",
    "** Classifer 4 - Logistic Regression**  \n",
    "\n",
    "| Training Set Size | Training Time | Prediction Time (test) | F1 Score (train) | F1 Score (test) |\n",
    "| :---------------: | :---------------------: | :--------------------: | :--------------: | :-------------: |\n",
    "| 100               |         0.0024          |     0.0005             |   0.8657         |    0.7419       |\n",
    "| 200               |         0.0023          |     0.0003             |   0.8483         |    0.7907       |\n",
    "| 300               |         0.0038          |     0.0003             |   0.8268         |    0.8175       |\n"
   ]
  },
  {
   "cell_type": "markdown",
   "metadata": {},
   "source": [
    "## Choosing the Best Model\n",
    "In this final section, you will choose from the three supervised learning models the *best* model to use on the student data. You will then perform a grid search optimization for the model over the entire training set (`X_train` and `y_train`) by tuning at least one parameter to improve upon the untuned model's F<sub>1</sub> score. "
   ]
  },
  {
   "cell_type": "markdown",
   "metadata": {},
   "source": [
    "### Question 3 - Chosing the Best Model\n",
    "*Based on the experiments you performed earlier, in one to two paragraphs, explain to the board of supervisors what single model you chose as the best model. Which model is generally the most appropriate based on the available data, limited resources, cost, and performance?*"
   ]
  },
  {
   "cell_type": "markdown",
   "metadata": {},
   "source": [
    "**Answer: **\n",
    "\n",
    "Support Vector Machine. The reason is comparing from the table given, we can see that F1 score train, test and prediction time, cost and performance the SVM has greater chance of success in validating the model. Compared between the results in Tabular view, we can see that the SVM prediction will have the highest F1 scores over the test set. If the cost of using SVM is not a concern, this is the best option. This condition applies when it comes at the mid or end of school year (Around Christmas time, or Summer Holiday). I figure the computation relies on the speed of the computer. It can be fast IF the school principal or entity provides faster commputer to perform computational. However, based on the table we can say that it's relatively fast on the small data sets. Average training time will be 0.0056 seconds which relatively small. So let's simulate this. Assuming the total number of student will increase and say 2000 students, the average time will be 0.0056 and the test set will be increased let's say 100. Thus, (0.0056/100) * 2000 = 0.11 seconds. This is still considered fast."
   ]
  },
  {
   "cell_type": "raw",
   "metadata": {},
   "source": [
    "### Question 4 - Model in Layman's Terms\n",
    "*In one to two paragraphs, explain to the board of directors in layman's terms how the final model chosen is supposed to work. For example if you've chosen to use a decision tree or a support vector machine, how does the model go about making a prediction?*"
   ]
  },
  {
   "cell_type": "markdown",
   "metadata": {},
   "source": [
    "**Answer: **\n",
    "\n",
    "The way I do make prediction with SVC model is striking for high accuracy for the prediction. From the given data set, we can distinguish the main problem. Are the student pass or fail ? Then how do we approach this ? Classification is one method to solve the problem by drawing the lines between the feature space students who pass or fail. The goal is to make the prediction pass or fail by looking at the regression line.\n",
    "\n",
    "1) The SVC takes data about past students (age,gender, family) and uses them to create function that draws a oundary between the students who pass stundent and fail student. Using SVM, we want observe the learning algorithm from the data provided on past students whether they passed or failed. This happens by looking at the lines of separation in the feature space between passed students versus failed students. The goal is to find the large difference between these two groups and create a prediction to determine the current student WILL pass or fail based on their data.\n",
    "\n",
    "<img src='http://nlp.stanford.edu/IR-book/html/htmledition/img1260.png'>\n",
    "\n",
    "\n",
    "2) Often, though its not easy to draw a decision boundary in low diensions, so the SVM separates the classes by translating the students data into dimensional space. We might want to look the boundary or linear separator in higher dimensional space. In this case, we are doing kernel method. Using this function created with the students we already know graduated or not, the SVM can look at new students data and predict by seeing which side of the separator data point falls on. \n",
    "\n",
    "<img src ='https://udacity-github-sync-content.s3.amazonaws.com/_imgs/19273/1464624531/1gvce.png'>\n",
    "\n",
    "Now, we understand the problem then how the SVC can help to solve this issue. The idea of SVC is an alogrithm which is trained to find the separator (in this case, regression linear line is the separator between pass and fail tests).\n",
    "\n",
    "The goal of the SVC is trying to maximize the margin width around linear line separation which it also means less overfit. Also from the graph given, we can see there are support vectors which right to the separator or closer to the margin. This is what defines the model. Once the pattern is recognized, it's not needed to keep the data points."
   ]
  },
  {
   "cell_type": "markdown",
   "metadata": {},
   "source": [
    "### Implementation: Model Tuning\n",
    "Fine tune the chosen model. Use grid search (`GridSearchCV`) with at least one important parameter tuned with at least 3 different values. You will need to use the entire training set for this. In the code cell below, you will need to implement the following:\n",
    "- Import [`sklearn.grid_search.gridSearchCV`](http://scikit-learn.org/stable/modules/generated/sklearn.grid_search.GridSearchCV.html) and [`sklearn.metrics.make_scorer`](http://scikit-learn.org/stable/modules/generated/sklearn.metrics.make_scorer.html).\n",
    "- Create a dictionary of parameters you wish to tune for the chosen model.\n",
    " - Example: `parameters = {'parameter' : [list of values]}`.\n",
    "- Initialize the classifier you've chosen and store it in `clf`.\n",
    "- Create the F<sub>1</sub> scoring function using `make_scorer` and store it in `f1_scorer`.\n",
    " - Set the `pos_label` parameter to the correct value!\n",
    "- Perform grid search on the classifier `clf` using `f1_scorer` as the scoring method, and store it in `grid_obj`.\n",
    "- Fit the grid search object to the training data (`X_train`, `y_train`), and store it in `grid_obj`."
   ]
  },
  {
   "cell_type": "code",
   "execution_count": 76,
   "metadata": {
    "collapsed": false
   },
   "outputs": [
    {
     "name": "stdout",
     "output_type": "stream",
     "text": [
      "Best Params:  {'kernel': 'rbf', 'tol': 0.1, 'gamma': 0.03333333333333333, 'C': 1}\n",
      "Made predictions in 0.0180 seconds.\n",
      "Tuned model has a training F1 score of 0.9034.\n",
      "Made predictions in 0.0060 seconds.\n",
      "Tuned model has a testing F1 score of 0.8235.\n"
     ]
    }
   ],
   "source": [
    "# TODO: Import 'GridSearchCV' and 'make_scorer'\n",
    "from sklearn.metrics import make_scorer\n",
    "from sklearn.grid_search import GridSearchCV\n",
    "from sklearn.metrics import f1_score\n",
    "\n",
    "# TODO: Create the parameters list you wish to tune\n",
    "#parameters = [\n",
    "#  {'C': [1, 10, 100, 200, 300, 400, 500, 600, 700],\n",
    "#   'gamma': [1e-1, 1e-2, 1e-3, 1e-4, 1e-5],\n",
    "#   'kernel': ['rbf'], 'tol':[1e-2, 1e-3, 1e-4, 1e-5]\n",
    "#  }\n",
    "#]\n",
    "#def_gamma = 1 / n_features\n",
    "parameters = [\n",
    "  {'C': [1,10,100],\n",
    "   #'gamma': [def_gamma / 10, def_gamma * 10, def_gamma, def_gamma * 100 ],\n",
    "   'gamma':[0.03333333333333333],\n",
    "   'kernel': ['rbf'], \n",
    "   'tol':[0.1],\n",
    "   #'class_weight':['auto']\n",
    "  }\n",
    "]\n",
    "\n",
    "# TODO: Initialize the classifier\n",
    "clf = clf_B\n",
    "\n",
    "# TODO: Make an f1 scoring function using 'make_scorer' \n",
    "f1_scorer = make_scorer(f1_score, pos_label=\"yes\")\n",
    "\n",
    "# TODO: Perform grid search on the classifier using the f1_scorer as the scoring method\n",
    "grid_obj = GridSearchCV(clf,parameters,scoring=f1_scorer)\n",
    "\n",
    "# TODO: Fit the grid search object to the training data and find the optimal parameters\n",
    "grid_obj = grid_obj.fit(X_train, y_train)\n",
    "\n",
    "# Get the estimator\n",
    "clf = grid_obj.best_estimator_\n",
    "clf_i = grid_obj.best_params_\n",
    "\n",
    "print (\"Best Params: \", clf_i)\n",
    "# Report the final F1 score for training and testing after parameter tuning\n",
    "print (\"Tuned model has a training F1 score of {:.4f}.\".format(predict_labels(clf, X_train, y_train)))\n",
    "print (\"Tuned model has a testing F1 score of {:.4f}.\".format(predict_labels(clf, X_test, y_test)))"
   ]
  },
  {
   "cell_type": "markdown",
   "metadata": {},
   "source": [
    "### Question 5 - Final F<sub>1</sub> Score\n",
    "*What is the final model's F<sub>1</sub> score for training and testing? How does that score compare to the untuned model?*"
   ]
  },
  {
   "cell_type": "markdown",
   "metadata": {},
   "source": [
    "**Answer: **\n",
    "\n",
    "The returned test set score for the tunned model finally higher than the untunned. Did couple research finding out the best gamma float for this and crossed out the assumption untunned model is better than tunned. The review clued me class imbalance and the cv parameter in gridsearch. In theory, the tunned model should always return better or at least the same as the untunned model. The final score for the tunned model is Training 0.9034 and Testing 0.8235. While the Untunned model is (the highest) training 0.8431 and testing (highest) 0.8105. The tunned model is better in training the model and slightly better in testing the model."
   ]
  },
  {
   "cell_type": "markdown",
   "metadata": {},
   "source": [
    "> **Note**: Once you have completed all of the code implementations and successfully answered each question above, you may finalize your work by exporting the iPython Notebook as an HTML document. You can do this by using the menu above and navigating to  \n",
    "**File -> Download as -> HTML (.html)**. Include the finished document along with this notebook as your submission."
   ]
  }
 ],
 "metadata": {
  "kernelspec": {
   "display_name": "Python 3",
   "language": "python",
   "name": "python3"
  },
  "language_info": {
   "codemirror_mode": {
    "name": "ipython",
    "version": 3
   },
   "file_extension": ".py",
   "mimetype": "text/x-python",
   "name": "python",
   "nbconvert_exporter": "python",
   "pygments_lexer": "ipython3",
   "version": "3.5.1"
  }
 },
 "nbformat": 4,
 "nbformat_minor": 0
}
